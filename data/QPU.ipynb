{
 "cells": [
  {
   "cell_type": "markdown",
   "metadata": {},
   "source": [
    "# Welcome to the Quantum Parallel Universe"
   ]
  },
  {
   "cell_type": "markdown",
   "metadata": {
    "tags": []
   },
   "source": [
    "## Initial Setup"
   ]
  },
  {
   "cell_type": "markdown",
   "metadata": {},
   "source": [
    "### Immutable Imports"
   ]
  },
  {
   "cell_type": "code",
   "execution_count": null,
   "metadata": {},
   "outputs": [],
   "source": [
    "import math\n",
    "import re\n",
    "from IPython.display import Latex\n",
    "from qiskit import QuantumCircuit, transpile\n",
    "from qiskit_aer import AerSimulator\n",
    "from qiskit.circuit import Qubit"
   ]
  },
  {
   "cell_type": "markdown",
   "metadata": {},
   "source": [
    "### Globals"
   ]
  },
  {
   "cell_type": "markdown",
   "metadata": {},
   "source": [
    "#### Manually Managed Variables & Imports"
   ]
  },
  {
   "cell_type": "code",
   "execution_count": null,
   "metadata": {},
   "outputs": [],
   "source": [
    "# number of qubits: int\n",
    "N = 15\n",
    "\n",
    "# IBMQ Mock Backend (https://qiskit.org/documentation/stable/0.42/apidoc/providers_fake_provider.html#fake-v1-backends)\n",
    "from qiskit.providers.fake_provider import FakeCairo\n",
    "backend = { 'device': FakeCairo() }"
   ]
  },
  {
   "cell_type": "markdown",
   "metadata": {},
   "source": [
    "#### Automatically Managed Variables"
   ]
  },
  {
   "cell_type": "code",
   "execution_count": null,
   "metadata": {},
   "outputs": [],
   "source": [
    "# linear GHZ container\n",
    "linear = {\n",
    "  'circuit': { 'draw': None, 'execute': None},\n",
    "  'transpiled': None,\n",
    "  'job': None,\n",
    "  'result': None,\n",
    "  'counts': { '0': None, '1': None },\n",
    "  'time': None,\n",
    "  'bias': { '0': None, '1': None },\n",
    "  'error': None\n",
    "}\n",
    "\n",
    "# logarithmic GHZ container\n",
    "log = {\n",
    "  'circuit': { 'draw': None, 'execute': None},\n",
    "  'transpiled': None,\n",
    "  'job': None,\n",
    "  'result': None,\n",
    "  'counts': { '0': None, '1': None },\n",
    "  'time': None,\n",
    "  'bias': { '0': None, '1': None },\n",
    "  'error': None\n",
    "}\n",
    "\n",
    "# Total Runs\n",
    "shots = 1024\n",
    "\n",
    "# IBMQ Mock Backend\n",
    "if N > 0:\n",
    "  backend['name'] = re.sub(r'(_|fake|v\\d)', ' ', backend['device'].backend_name.lower()).title()\n",
    "  backend['num_qubits'] = backend['device'].configuration().num_qubits\n",
    "  backend['simulator'] = AerSimulator.from_backend(backend['device'])\n",
    "else:\n",
    "  raise RuntimeError(msg=f\"Invalid N={N}, must be 0 < N < {backend['num_qubits']}\")"
   ]
  },
  {
   "cell_type": "markdown",
   "metadata": {},
   "source": [
    "---"
   ]
  },
  {
   "attachments": {},
   "cell_type": "markdown",
   "metadata": {
    "tags": []
   },
   "source": [
    "## Generate $|\\text{GHZ}_N\\rangle$ Circuits"
   ]
  },
  {
   "attachments": {},
   "cell_type": "markdown",
   "metadata": {},
   "source": [
    "### Generate Linear Time Complexity Circuits for $|\\text{GHZ}_N\\rangle$ $^\\text{1}$"
   ]
  },
  {
   "cell_type": "code",
   "execution_count": null,
   "metadata": {},
   "outputs": [],
   "source": [
    "def linear_complexity_GHZ(N: int, measure: bool = True) -> QuantumCircuit:\n",
    "  if not isinstance(N, int):\n",
    "    raise TypeError(\"Only integer arguments accepted.\")\n",
    "  if N < 1:\n",
    "    raise ValueError(\"There must be one or more qubits.\")\n",
    "\n",
    "  c = QuantumCircuit(N)\n",
    "  c.h(0)\n",
    "  for i in range(1, N):\n",
    "    c.cx(i-1, i)\n",
    "  if measure:\n",
    "    c.measure_active()\n",
    "\n",
    "  return c"
   ]
  },
  {
   "cell_type": "code",
   "execution_count": null,
   "metadata": {},
   "outputs": [],
   "source": [
    "linear['circuit']['execute'] = linear_complexity_GHZ(N)\n",
    "linear['circuit']['draw'] = linear_complexity_GHZ(N, False)\n",
    "linear['circuit']['draw'].draw(output='mpl', fold=-1, initial_state=True)"
   ]
  },
  {
   "attachments": {},
   "cell_type": "markdown",
   "metadata": {},
   "source": [
    "### Generate Logaritmic Complexity Circuits for $|\\text{GHZ}_{2^m}\\rangle$ $^\\text{1}$"
   ]
  },
  {
   "cell_type": "code",
   "execution_count": null,
   "metadata": {},
   "outputs": [],
   "source": [
    "def _log_complexity_GHZ(m: int) -> QuantumCircuit:\n",
    "  if not isinstance(m, int):\n",
    "    raise TypeError(\"Only integer arguments accepted.\")\n",
    "  if m < 0:\n",
    "    raise ValueError(\"`m` must be at least 0 (evaluated 2^m).\")\n",
    "\n",
    "  if m == 0:\n",
    "    c = QuantumCircuit([Qubit()])\n",
    "    c.h(0)\n",
    "    c.barrier()\n",
    "  else:\n",
    "    c = _log_complexity_GHZ(m - 1)\n",
    "    for i in range(c.num_qubits):\n",
    "      c.add_bits([Qubit()])\n",
    "      new_qubit_index = c.num_qubits - 1\n",
    "      c.cx(i, new_qubit_index)\n",
    "    c.barrier()\n",
    "\n",
    "  return c"
   ]
  },
  {
   "attachments": {},
   "cell_type": "markdown",
   "metadata": {},
   "source": [
    "### Generate Logaritmic Complexity Circuits for $|\\text{GHZ}_N\\rangle$ $^\\text{1}$"
   ]
  },
  {
   "cell_type": "code",
   "execution_count": null,
   "metadata": {},
   "outputs": [],
   "source": [
    "def log_complexity_GHZ(N: int, measure: bool = True) -> QuantumCircuit:\n",
    "  if not isinstance(N, int):\n",
    "    raise TypeError(\"Only an integer argument is accepted.\")\n",
    "  if N < 1:\n",
    "    raise ValueError(\"There must be one or more qubits.\")\n",
    "\n",
    "  m = math.ceil(math.log2(N))\n",
    "  num_qubits_to_erase = 2**m - N\n",
    "  old_circuit = _log_complexity_GHZ(m=m)\n",
    "  new_num_qubits = old_circuit.num_qubits - num_qubits_to_erase\n",
    "  new_circuit = QuantumCircuit(new_num_qubits)\n",
    "  for gate in old_circuit.data:\n",
    "    qubits_affected = gate.qubits\n",
    "    if all(old_circuit.find_bit(qubit).index < new_num_qubits for qubit in qubits_affected):\n",
    "      new_circuit.append(gate[0], [old_circuit.find_bit(qubit).index for qubit in qubits_affected])\n",
    "  if measure:\n",
    "    new_circuit.measure_active()\n",
    "\n",
    "  return new_circuit"
   ]
  },
  {
   "cell_type": "code",
   "execution_count": null,
   "metadata": {},
   "outputs": [],
   "source": [
    "log['circuit']['execute'] = log_complexity_GHZ(N)\n",
    "log['circuit']['draw'] = log_complexity_GHZ(N, False)\n",
    "log['circuit']['draw'].draw(output='mpl', fold=-1, initial_state=True)"
   ]
  },
  {
   "cell_type": "markdown",
   "metadata": {},
   "source": [
    "---"
   ]
  },
  {
   "cell_type": "markdown",
   "metadata": {},
   "source": [
    "## Computational Cost Analysis"
   ]
  },
  {
   "attachments": {},
   "cell_type": "markdown",
   "metadata": {},
   "source": [
    "### Cost of Hadamard (H) Gate $^\\text{2}$"
   ]
  },
  {
   "cell_type": "code",
   "execution_count": null,
   "metadata": {},
   "outputs": [],
   "source": [
    "H_cost = 2"
   ]
  },
  {
   "attachments": {},
   "cell_type": "markdown",
   "metadata": {},
   "source": [
    "### Cost of CNOT (CX) Gate $^\\text{2}$"
   ]
  },
  {
   "cell_type": "code",
   "execution_count": null,
   "metadata": {},
   "outputs": [],
   "source": [
    "CX_cost = 5"
   ]
  },
  {
   "cell_type": "markdown",
   "metadata": {},
   "source": [
    "### Program Cost"
   ]
  },
  {
   "cell_type": "code",
   "execution_count": null,
   "metadata": {},
   "outputs": [],
   "source": [
    "T_cost = ((N - 1) * CX_cost) + H_cost\n",
    "Latex(f\"\"\"\\\\begin{{equation*}}{T_cost}\\\\end{{equation*}}\"\"\")"
   ]
  },
  {
   "cell_type": "markdown",
   "metadata": {},
   "source": [
    "### Program Sections (`s`)"
   ]
  },
  {
   "cell_type": "code",
   "execution_count": null,
   "metadata": {},
   "outputs": [],
   "source": [
    "def program_sections() -> int:\n",
    "  init = [ 0, 1, 2 ]\n",
    "  i = len(init)\n",
    "  k = 1\n",
    "  while len(init) <= N:\n",
    "    init += [i] * 2**k\n",
    "    i += 1\n",
    "    k += 1\n",
    "  return init[N]"
   ]
  },
  {
   "cell_type": "code",
   "execution_count": null,
   "metadata": {},
   "outputs": [],
   "source": [
    "s = program_sections()\n",
    "Latex(f\"\"\"\\\\begin{{equation*}}{s}\\\\end{{equation*}}\"\"\")"
   ]
  },
  {
   "cell_type": "markdown",
   "metadata": {},
   "source": [
    "### Cost per Section"
   ]
  },
  {
   "cell_type": "code",
   "execution_count": null,
   "metadata": {},
   "outputs": [],
   "source": [
    "def cost_per_section() -> list:\n",
    "  init = [ H_cost ]\n",
    "  _N = N - 1\n",
    "  k = 0\n",
    "  while len(init) < (s - 1):\n",
    "    init.append(CX_cost * 2**k)\n",
    "    _N -= 2**k\n",
    "    k += 1\n",
    "  if _N > 0:\n",
    "    init.append(CX_cost * _N)\n",
    "  return init"
   ]
  },
  {
   "cell_type": "code",
   "execution_count": null,
   "metadata": {},
   "outputs": [],
   "source": [
    "section_cost_list = cost_per_section()\n",
    "Latex(f\"\"\"\\\\begin{{equation*}}{section_cost_list}\\\\end{{equation*}}\"\"\")"
   ]
  },
  {
   "cell_type": "markdown",
   "metadata": {},
   "source": [
    "---"
   ]
  },
  {
   "attachments": {},
   "cell_type": "markdown",
   "metadata": {},
   "source": [
    "## Parallel v. Sequential Analysis in Logarithmic Circuit"
   ]
  },
  {
   "cell_type": "markdown",
   "metadata": {},
   "source": [
    "### Gates Per Section"
   ]
  },
  {
   "cell_type": "code",
   "execution_count": null,
   "metadata": {},
   "outputs": [],
   "source": [
    "def gates_per_section() -> list:\n",
    "  if s == 1:\n",
    "    return [1]\n",
    "  elif s == 2:\n",
    "    return [1, 1]\n",
    "  else:\n",
    "    init = [1, 1]\n",
    "    for i in range(len(init), s):\n",
    "      init.append(int(section_cost_list[i] / CX_cost))\n",
    "    return init"
   ]
  },
  {
   "cell_type": "code",
   "execution_count": null,
   "metadata": {},
   "outputs": [],
   "source": [
    "num_gates_list = gates_per_section()\n",
    "Latex(f\"\"\"\\\\begin{{equation*}}{num_gates_list}\\\\end{{equation*}}\"\"\")"
   ]
  },
  {
   "cell_type": "markdown",
   "metadata": {},
   "source": [
    "### Percent Sequential"
   ]
  },
  {
   "cell_type": "code",
   "execution_count": null,
   "metadata": {},
   "outputs": [],
   "source": [
    "def add_sequential_portions() -> float:\n",
    "  seq = 0\n",
    "  for cost, gates in zip(section_cost_list, num_gates_list):\n",
    "    seq += (1 / gates) * (cost / T_cost)\n",
    "  return seq"
   ]
  },
  {
   "cell_type": "code",
   "execution_count": null,
   "metadata": {},
   "outputs": [],
   "source": [
    "sequential_portion = add_sequential_portions()\n",
    "Latex(f\"\"\"\\\\begin{{equation*}}{sequential_portion * 100}\\%\\\\end{{equation*}}\"\"\")"
   ]
  },
  {
   "cell_type": "markdown",
   "metadata": {},
   "source": [
    "### Percent Parallel"
   ]
  },
  {
   "cell_type": "code",
   "execution_count": null,
   "metadata": {},
   "outputs": [],
   "source": [
    "def add_parallel_portions() -> float:\n",
    "  par = 0\n",
    "  for cost, gates in zip(section_cost_list, num_gates_list):\n",
    "    par += ( (gates - 1) / gates ) * (cost / T_cost)\n",
    "  return par"
   ]
  },
  {
   "cell_type": "code",
   "execution_count": null,
   "metadata": {},
   "outputs": [],
   "source": [
    "parallel_portion = add_parallel_portions()\n",
    "Latex(f\"\"\"\\\\begin{{equation*}}{parallel_portion * 100}\\%\\\\end{{equation*}}\"\"\")"
   ]
  },
  {
   "cell_type": "markdown",
   "metadata": {},
   "source": [
    "---"
   ]
  },
  {
   "cell_type": "markdown",
   "metadata": {
    "tags": []
   },
   "source": [
    "## Quantum Simulation"
   ]
  },
  {
   "cell_type": "markdown",
   "metadata": {
    "tags": []
   },
   "source": [
    "### Device"
   ]
  },
  {
   "cell_type": "code",
   "execution_count": null,
   "metadata": {},
   "outputs": [],
   "source": [
    "Latex(f\"\"\"\\\\begin{{equation*}}\n",
    "          \\\\text{{{backend['name']} ({backend['num_qubits']} qubits)}}\n",
    "          \\\\end{{equation*}}\"\"\")"
   ]
  },
  {
   "attachments": {},
   "cell_type": "markdown",
   "metadata": {},
   "source": [
    "### Transpile Circuits $^\\text{3}$"
   ]
  },
  {
   "cell_type": "code",
   "execution_count": null,
   "metadata": {},
   "outputs": [],
   "source": [
    "linear['transpiled'] = transpile(linear['circuit']['execute'],\n",
    "                                 backend['simulator'],\n",
    "                                 scheduling_method=\"asap\",\n",
    "                                 optimization_level=0)"
   ]
  },
  {
   "cell_type": "code",
   "execution_count": null,
   "metadata": {},
   "outputs": [],
   "source": [
    "log['transpiled'] = transpile(log['circuit']['execute'],\n",
    "                              backend['simulator'],\n",
    "                              scheduling_method=\"asap\",\n",
    "                              optimization_level=0)"
   ]
  },
  {
   "cell_type": "markdown",
   "metadata": {},
   "source": [
    "### Run Simulations"
   ]
  },
  {
   "cell_type": "code",
   "execution_count": null,
   "metadata": {},
   "outputs": [],
   "source": [
    "linear['job'] = backend['device'].run(linear['transpiled'])"
   ]
  },
  {
   "cell_type": "code",
   "execution_count": null,
   "metadata": {},
   "outputs": [],
   "source": [
    "log['job'] = backend['device'].run(log['transpiled'])"
   ]
  },
  {
   "cell_type": "markdown",
   "metadata": {},
   "source": [
    "### Block for Results"
   ]
  },
  {
   "cell_type": "code",
   "execution_count": null,
   "metadata": {},
   "outputs": [],
   "source": [
    "linear['result'] = linear['job'].result()"
   ]
  },
  {
   "cell_type": "code",
   "execution_count": null,
   "metadata": {},
   "outputs": [],
   "source": [
    "log['result'] = log['job'].result()"
   ]
  },
  {
   "cell_type": "markdown",
   "metadata": {},
   "source": [
    "---"
   ]
  },
  {
   "cell_type": "markdown",
   "metadata": {},
   "source": [
    "## Speed-Up Analysis"
   ]
  },
  {
   "cell_type": "markdown",
   "metadata": {},
   "source": [
    "### Run-Times"
   ]
  },
  {
   "cell_type": "markdown",
   "metadata": {},
   "source": [
    "#### Linear"
   ]
  },
  {
   "cell_type": "code",
   "execution_count": null,
   "metadata": {},
   "outputs": [],
   "source": [
    "linear['time'] = linear['result'].time_taken\n",
    "Latex(f\"\"\"\\\\begin{{equation*}}{linear['time']}\\space\\\\text{{seconds}}\\\\end{{equation*}}\"\"\")"
   ]
  },
  {
   "attachments": {},
   "cell_type": "markdown",
   "metadata": {},
   "source": [
    "#### Logarithmic"
   ]
  },
  {
   "cell_type": "code",
   "execution_count": null,
   "metadata": {},
   "outputs": [],
   "source": [
    "log['time'] = log['result'].time_taken\n",
    "Latex(f\"\"\"\\\\begin{{equation*}}{log['time']}\\space\\\\text{{seconds}}\\\\end{{equation*}}\"\"\")"
   ]
  },
  {
   "attachments": {},
   "cell_type": "markdown",
   "metadata": {},
   "source": [
    "### Theoretical Max Speed-Up (Amdahl's Law $^\\text{4}$)"
   ]
  },
  {
   "cell_type": "markdown",
   "metadata": {},
   "source": [
    "$$\\lim_{F\\to\\infty} S_{\\text{latency}} = \\dfrac{1}{S_{\\text{eq}} + \\dfrac{P}{F}} = \\dfrac{1}{S_{\\text{eq}}}$$"
   ]
  },
  {
   "cell_type": "markdown",
   "metadata": {},
   "source": [
    "- $S_{\\text{eq}}$ represents the portions of the program running sequentially\n",
    "- $P$ represents the portions of the program running in parallel\n",
    "- $F$ represents the level of concurrency (i.e. number of cores in classical computing)"
   ]
  },
  {
   "cell_type": "code",
   "execution_count": null,
   "metadata": {},
   "outputs": [],
   "source": [
    "Latex(f\"\"\"\\\\begin{{equation*}}{1 / sequential_portion}\\\\end{{equation*}}\"\"\")"
   ]
  },
  {
   "attachments": {},
   "cell_type": "markdown",
   "metadata": {},
   "source": [
    "### Observed Speed-Up Factor ($S_{\\text{latency}}$)"
   ]
  },
  {
   "cell_type": "code",
   "execution_count": null,
   "metadata": {},
   "outputs": [],
   "source": [
    "S_latency = linear['time'] / log['time']\n",
    "Latex(f\"\"\"\\\\begin{{equation*}}{S_latency}\\\\end{{equation*}}\"\"\")"
   ]
  },
  {
   "attachments": {},
   "cell_type": "markdown",
   "metadata": {},
   "source": [
    "### Approximated Level of Concurrency ($F$)"
   ]
  },
  {
   "attachments": {},
   "cell_type": "markdown",
   "metadata": {},
   "source": [
    "$$F = \\dfrac{P\\cdot S_{\\text{latency}}}{1 - S_{\\text{eq}}\\cdot S_{\\text{latency}}}$$"
   ]
  },
  {
   "cell_type": "code",
   "execution_count": null,
   "metadata": {},
   "outputs": [],
   "source": [
    "F = (parallel_portion * S_latency) / (1 - (sequential_portion * S_latency))\n",
    "Latex(f\"\"\"\\\\begin{{equation*}}{F}\\\\end{{equation*}}\"\"\")"
   ]
  },
  {
   "cell_type": "markdown",
   "metadata": {},
   "source": [
    "---"
   ]
  },
  {
   "attachments": {},
   "cell_type": "markdown",
   "metadata": {},
   "source": [
    "## Error & Bias Analysis"
   ]
  },
  {
   "attachments": {},
   "cell_type": "markdown",
   "metadata": {},
   "source": [
    "### Get Counts"
   ]
  },
  {
   "cell_type": "code",
   "execution_count": null,
   "metadata": {},
   "outputs": [],
   "source": [
    "try:\n",
    "  linear['counts']['0'] = linear['result'].get_counts()['0' * N]\n",
    "except KeyError:\n",
    "  linear['counts']['0'] = 0\n",
    "try:\n",
    "  linear['counts']['1'] = linear['result'].get_counts()['1' * N]\n",
    "except KeyError:\n",
    "  linear['counts']['1'] = 0\n",
    "try:\n",
    "  log['counts']['0'] = log['result'].get_counts()['0' * N]\n",
    "except KeyError:\n",
    "  log['counts']['0'] = 0\n",
    "try:\n",
    "  log['counts']['1'] = log['result'].get_counts()['1' * N]\n",
    "except KeyError:\n",
    "  log['counts']['1'] = 0"
   ]
  },
  {
   "attachments": {},
   "cell_type": "markdown",
   "metadata": {},
   "source": [
    "### Error"
   ]
  },
  {
   "attachments": {},
   "cell_type": "markdown",
   "metadata": {},
   "source": [
    "#### Linear Error Percent"
   ]
  },
  {
   "cell_type": "code",
   "execution_count": null,
   "metadata": {},
   "outputs": [],
   "source": [
    "linear['error'] = (shots - (linear['counts']['0'] + linear['counts']['1'])) / shots\n",
    "Latex(f\"\"\"\\\\begin{{equation*}}{linear['error'] * 100}\\%\\\\end{{equation*}}\"\"\")"
   ]
  },
  {
   "attachments": {},
   "cell_type": "markdown",
   "metadata": {},
   "source": [
    "#### Logarithmic Error Percent"
   ]
  },
  {
   "cell_type": "code",
   "execution_count": null,
   "metadata": {},
   "outputs": [],
   "source": [
    "log['error'] = (shots - (log['counts']['0'] + log['counts']['1'])) / shots\n",
    "Latex(f\"\"\"\\\\begin{{equation*}}{log['error'] * 100}\\%\\\\end{{equation*}}\"\"\")"
   ]
  },
  {
   "attachments": {},
   "cell_type": "markdown",
   "metadata": {},
   "source": [
    "### Bias"
   ]
  },
  {
   "attachments": {},
   "cell_type": "markdown",
   "metadata": {
    "tags": []
   },
   "source": [
    "#### Linear Bias Percent"
   ]
  },
  {
   "attachments": {},
   "cell_type": "markdown",
   "metadata": {},
   "source": [
    "##### State $|0\\rangle$"
   ]
  },
  {
   "cell_type": "code",
   "execution_count": null,
   "metadata": {},
   "outputs": [],
   "source": [
    "linear['bias']['0'] = linear['counts']['0'] / (linear['counts']['0'] + linear['counts']['1'])\n",
    "Latex(f\"\"\"\\\\begin{{equation*}}{linear['bias']['0'] * 100}\\%\\\\end{{equation*}}\"\"\")"
   ]
  },
  {
   "attachments": {},
   "cell_type": "markdown",
   "metadata": {},
   "source": [
    "##### State $|1\\rangle$"
   ]
  },
  {
   "cell_type": "code",
   "execution_count": null,
   "metadata": {},
   "outputs": [],
   "source": [
    "linear['bias']['1'] = linear['counts']['1'] / (linear['counts']['0'] + linear['counts']['1'])\n",
    "Latex(f\"\"\"\\\\begin{{equation*}}{linear['bias']['1'] * 100}\\%\\\\end{{equation*}}\"\"\")"
   ]
  },
  {
   "attachments": {},
   "cell_type": "markdown",
   "metadata": {},
   "source": [
    "#### Logarithmic Bias Percent"
   ]
  },
  {
   "attachments": {},
   "cell_type": "markdown",
   "metadata": {},
   "source": [
    "##### State $|0\\rangle$"
   ]
  },
  {
   "cell_type": "code",
   "execution_count": null,
   "metadata": {},
   "outputs": [],
   "source": [
    "log['bias']['0'] = log['counts']['0'] / (log['counts']['0'] + log['counts']['1'])\n",
    "Latex(f\"\"\"\\\\begin{{equation*}}{log['bias']['0'] * 100}\\%\\\\end{{equation*}}\"\"\")"
   ]
  },
  {
   "attachments": {},
   "cell_type": "markdown",
   "metadata": {},
   "source": [
    "##### State $|1\\rangle$"
   ]
  },
  {
   "cell_type": "code",
   "execution_count": null,
   "metadata": {},
   "outputs": [],
   "source": [
    "log['bias']['1'] = log['counts']['1'] / (log['counts']['0'] + log['counts']['1'])\n",
    "Latex(f\"\"\"\\\\begin{{equation*}}{log['bias']['1'] * 100}\\%\\\\end{{equation*}}\"\"\")"
   ]
  },
  {
   "cell_type": "markdown",
   "metadata": {},
   "source": [
    "---"
   ]
  },
  {
   "cell_type": "markdown",
   "metadata": {},
   "source": [
    "## References"
   ]
  },
  {
   "attachments": {},
   "cell_type": "markdown",
   "metadata": {},
   "source": [
    "1. [Cruz, Diogo, Romain Fournier, Fabien Gremion, Alix Jeannerot, Kenichi Komagata, Tara Tosic, Jarla Thiesbrummel, et al. (2018). Efficient Quantum Algorithms for $GHZ$ and $W$ States, and Implementation on the IBM Quantum Computer. ArXiv. 1-2.](https://doi.org/10.48550/ARXIV.1807.05572)\n",
    "\n",
    "2. [Lee, Soonchil & Lee, Seong-Joo & Kim, Taegon & Lee, Jae-Seung & Biamonte, Jacob & Perkowski, Marek. (2006). The cost of quantum gate primitives. Journal of Multiple-Valued Logic and Soft Computing. 12. 571.](https://www.researchgate.net/publication/216778423_The_cost_of_quantum_gate_primitives)\n",
    "\n",
    "3. [Scheduling Methods](https://qiskit.org/documentation/stable/0.42/tutorials/circuits_advanced/07_pulse_scheduler.html#Scheduler-methods)\n",
    "\n",
    "4. [Amdahl's Law Definition](https://en.wikipedia.org/wiki/Amdahl%27s_law#Definition)"
   ]
  }
 ],
 "metadata": {
  "kernelspec": {
   "display_name": "Python 3 (ipykernel)",
   "language": "python",
   "name": "python3"
  },
  "language_info": {
   "codemirror_mode": {
    "name": "ipython",
    "version": 3
   },
   "file_extension": ".py",
   "mimetype": "text/x-python",
   "name": "python",
   "nbconvert_exporter": "python",
   "pygments_lexer": "ipython3",
   "version": "3.11.3"
  }
 },
 "nbformat": 4,
 "nbformat_minor": 4
}
