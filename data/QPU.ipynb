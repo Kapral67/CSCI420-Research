{
 "cells": [
  {
   "cell_type": "markdown",
   "metadata": {},
   "source": [
    "# Welcome to the Quantum Parallel Universe"
   ]
  },
  {
   "cell_type": "markdown",
   "metadata": {},
   "source": [
    "## Initial Setup"
   ]
  },
  {
   "cell_type": "markdown",
   "metadata": {},
   "source": [
    "### Imports"
   ]
  },
  {
   "cell_type": "code",
   "execution_count": null,
   "metadata": {},
   "outputs": [],
   "source": [
    "import math\n",
    "from IPython.display import Latex\n",
    "from qiskit import execute, QuantumCircuit\n",
    "from qiskit.circuit import Qubit\n",
    "from qiskit.providers.fake_provider import *\n",
    "from qiskit.visualization import plot_histogram"
   ]
  },
  {
   "cell_type": "markdown",
   "metadata": {},
   "source": [
    "### Globals"
   ]
  },
  {
   "cell_type": "markdown",
   "metadata": {},
   "source": [
    "#### Manually Managed Variables"
   ]
  },
  {
   "cell_type": "code",
   "execution_count": null,
   "metadata": {},
   "outputs": [],
   "source": [
    "# number of qubits: int\n",
    "N = 16\n",
    "\n",
    "# shots: int\n",
    "shots = 4096\n",
    "\n",
    "# IBMQ Backend\n",
    "backend = FakeWashingtonV2()"
   ]
  },
  {
   "cell_type": "markdown",
   "metadata": {},
   "source": [
    "#### Automatically Managed Variables"
   ]
  },
  {
   "cell_type": "code",
   "execution_count": null,
   "metadata": {},
   "outputs": [],
   "source": [
    "# linear GHZ container\n",
    "linear = {\n",
    "  'circuit': None,\n",
    "  'job': None,\n",
    "  'result': None,\n",
    "  'time': None,\n",
    "  'error': { '0': None, '1': None }\n",
    "}\n",
    "\n",
    "# logarithmic GHZ container\n",
    "log = {\n",
    "  'circuit': None,\n",
    "  'job': None,\n",
    "  'result': None,\n",
    "  'time': None,\n",
    "  'error': { '0': None, '1': None }\n",
    "}\n",
    "\n",
    "# ideal shots per state\n",
    "isps = shots / 2\n",
    "\n",
    "# parallel sections\n",
    "init = [ 0, 1, 2 ]\n",
    "i = len(init)\n",
    "k = 1\n",
    "while len(init) <= N:\n",
    "  init += [i] * 2**k\n",
    "  i += 1\n",
    "  k += 1\n",
    "s = init[N]"
   ]
  },
  {
   "cell_type": "markdown",
   "metadata": {},
   "source": [
    "---"
   ]
  },
  {
   "attachments": {},
   "cell_type": "markdown",
   "metadata": {},
   "source": [
    "## Generate $|\\text{GHZ}_N\\rangle$ Circuits<sup>1</sup>"
   ]
  },
  {
   "cell_type": "markdown",
   "metadata": {},
   "source": [
    "### Generate Linear Time Complexity Circuits for $|\\text{GHZ}_N\\rangle$"
   ]
  },
  {
   "cell_type": "code",
   "execution_count": null,
   "metadata": {},
   "outputs": [],
   "source": [
    "def linear_complexity_GHZ(N: int) -> QuantumCircuit:\n",
    "  if not isinstance(N, int):\n",
    "    raise TypeError(\"Only integer arguments accepted.\")\n",
    "  if N < 1:\n",
    "    raise ValueError(\"There must be one or more qubits.\")\n",
    "\n",
    "  c = QuantumCircuit(N)\n",
    "  for i in range(N):\n",
    "    c.reset(i)\n",
    "  c.h(0)\n",
    "  for i in range(1, N):\n",
    "    c.cx(i-1, i)\n",
    "  c.measure_active()\n",
    "  return c"
   ]
  },
  {
   "cell_type": "code",
   "execution_count": null,
   "metadata": {},
   "outputs": [],
   "source": [
    "linear['circuit'] = linear_complexity_GHZ(N)\n",
    "linear['circuit'].draw(output='mpl', fold=-1)"
   ]
  },
  {
   "cell_type": "markdown",
   "metadata": {},
   "source": [
    "### Generate Logaritmic Complexity Circuits for $|\\text{GHZ}_{2^m}\\rangle$"
   ]
  },
  {
   "cell_type": "code",
   "execution_count": null,
   "metadata": {},
   "outputs": [],
   "source": [
    "def _log_complexity_GHZ(m: int) -> QuantumCircuit:\n",
    "  if not isinstance(m, int):\n",
    "    raise TypeError(\"Only integer arguments accepted.\")\n",
    "  if m < 0:\n",
    "    raise ValueError(\"`m` must be at least 0 (evaluated 2^m).\")\n",
    "\n",
    "  if m == 0:\n",
    "    c = QuantumCircuit([Qubit()])\n",
    "    c.reset(0)\n",
    "    c.h(0)\n",
    "  else:\n",
    "    c = _log_complexity_GHZ(m - 1)\n",
    "    for i in range(c.num_qubits):\n",
    "      c.add_bits([Qubit()])\n",
    "      new_qubit_index = c.num_qubits - 1\n",
    "      c.reset(new_qubit_index)\n",
    "      c.cx(i, new_qubit_index)\n",
    "  return c"
   ]
  },
  {
   "cell_type": "markdown",
   "metadata": {},
   "source": [
    "### Generate Logaritmic Complexity Circuits for $|\\text{GHZ}_N\\rangle$"
   ]
  },
  {
   "cell_type": "code",
   "execution_count": null,
   "metadata": {},
   "outputs": [],
   "source": [
    "def log_complexity_GHZ(N: int) -> QuantumCircuit:\n",
    "  if not isinstance(N, int):\n",
    "    raise TypeError(\"Only an integer argument is accepted.\")\n",
    "  if N < 1:\n",
    "    raise ValueError(\"There must be one or more qubits.\")\n",
    "\n",
    "  m = math.ceil(math.log2(N))\n",
    "  num_qubits_to_erase = 2**m - N\n",
    "  old_circuit = _log_complexity_GHZ(m=m)\n",
    "  new_num_qubits = old_circuit.num_qubits - num_qubits_to_erase\n",
    "  new_circuit = QuantumCircuit(new_num_qubits)\n",
    "  for gate in old_circuit.data:\n",
    "    qubits_affected = gate.qubits\n",
    "    if all(old_circuit.find_bit(qubit).index < new_num_qubits for qubit in qubits_affected):\n",
    "      new_circuit.append(gate[0], [old_circuit.find_bit(qubit).index for qubit in qubits_affected])\n",
    "  new_circuit.measure_active()\n",
    "  return new_circuit\n"
   ]
  },
  {
   "cell_type": "code",
   "execution_count": null,
   "metadata": {},
   "outputs": [],
   "source": [
    "log['circuit'] = log_complexity_GHZ(N)\n",
    "log['circuit'].draw(output='mpl', fold=-1)"
   ]
  },
  {
   "cell_type": "markdown",
   "metadata": {},
   "source": [
    "---"
   ]
  },
  {
   "cell_type": "markdown",
   "metadata": {},
   "source": [
    "## Quantum Simulation & Results"
   ]
  },
  {
   "cell_type": "markdown",
   "metadata": {},
   "source": [
    "### Create Simulator Jobs"
   ]
  },
  {
   "cell_type": "code",
   "execution_count": null,
   "metadata": {},
   "outputs": [],
   "source": [
    "linear['job'] = execute(linear['circuit'], backend, shots=shots)\n",
    "log['job'] = execute(log['circuit'], backend, shots=shots)"
   ]
  },
  {
   "cell_type": "markdown",
   "metadata": {},
   "source": [
    "### Execution Histograms"
   ]
  },
  {
   "cell_type": "markdown",
   "metadata": {},
   "source": [
    "#### Linear"
   ]
  },
  {
   "cell_type": "code",
   "execution_count": null,
   "metadata": {},
   "outputs": [],
   "source": [
    "linear['result'] = linear['job'].result()\n",
    "plot_histogram(linear['result'].get_counts())"
   ]
  },
  {
   "cell_type": "markdown",
   "metadata": {},
   "source": [
    "#### Logaritmic"
   ]
  },
  {
   "cell_type": "code",
   "execution_count": null,
   "metadata": {},
   "outputs": [],
   "source": [
    "log['result'] = log['job'].result()\n",
    "plot_histogram(log['result'].get_counts())"
   ]
  },
  {
   "cell_type": "markdown",
   "metadata": {},
   "source": [
    "---"
   ]
  },
  {
   "cell_type": "markdown",
   "metadata": {},
   "source": [
    "## Error Analysis"
   ]
  },
  {
   "attachments": {},
   "cell_type": "markdown",
   "metadata": {},
   "source": [
    "### Linear Error Percentage"
   ]
  },
  {
   "attachments": {},
   "cell_type": "markdown",
   "metadata": {
    "tags": []
   },
   "source": [
    "##### State $|0\\rangle$"
   ]
  },
  {
   "cell_type": "code",
   "execution_count": null,
   "metadata": {
    "tags": []
   },
   "outputs": [],
   "source": [
    "linear['error']['0'] = abs((linear['result'].get_counts()['0' * N] - isps) / isps)\n",
    "Latex(f\"\"\"\\\\begin{{equation*}}{linear['error']['0'] * 100}\\%\\\\end{{equation*}}\"\"\")\n"
   ]
  },
  {
   "cell_type": "markdown",
   "metadata": {},
   "source": [
    "##### State $|1\\rangle$"
   ]
  },
  {
   "cell_type": "code",
   "execution_count": null,
   "metadata": {},
   "outputs": [],
   "source": [
    "linear['error']['1'] = abs((linear['result'].get_counts()['1' * N] - isps) / isps)\n",
    "Latex(f\"\"\"\\\\begin{{equation*}}{linear['error']['1'] * 100}\\%\\\\end{{equation*}}\"\"\")"
   ]
  },
  {
   "attachments": {},
   "cell_type": "markdown",
   "metadata": {},
   "source": [
    "### Logarithmic Error Percentage"
   ]
  },
  {
   "cell_type": "markdown",
   "metadata": {},
   "source": [
    "#### State $|0\\rangle$"
   ]
  },
  {
   "cell_type": "code",
   "execution_count": null,
   "metadata": {},
   "outputs": [],
   "source": [
    "log['error']['0'] = abs((log['result'].get_counts()['0' * N] - isps) / isps)\n",
    "Latex(f\"\"\"\\\\begin{{equation*}}{log['error']['0'] * 100}\\%\\\\end{{equation*}}\"\"\")"
   ]
  },
  {
   "cell_type": "markdown",
   "metadata": {},
   "source": [
    "#### State $|1\\rangle$"
   ]
  },
  {
   "cell_type": "code",
   "execution_count": null,
   "metadata": {},
   "outputs": [],
   "source": [
    "log['error']['1'] = abs((log['result'].get_counts()['1' * N] - isps) / isps)\n",
    "Latex(f\"\"\"\\\\begin{{equation*}}{log['error']['1'] * 100}\\%\\\\end{{equation*}}\"\"\")"
   ]
  },
  {
   "cell_type": "markdown",
   "metadata": {},
   "source": [
    "---"
   ]
  },
  {
   "cell_type": "markdown",
   "metadata": {},
   "source": [
    "## Speed-Up Analysis"
   ]
  },
  {
   "cell_type": "markdown",
   "metadata": {},
   "source": [
    "### Run-Times"
   ]
  },
  {
   "cell_type": "markdown",
   "metadata": {},
   "source": [
    "#### Linear"
   ]
  },
  {
   "cell_type": "code",
   "execution_count": null,
   "metadata": {},
   "outputs": [],
   "source": [
    "linear['time'] = linear['result'].time_taken\n",
    "Latex(f\"\"\"\\\\begin{{equation*}}{linear['time']}\\\\space\\\\text{{seconds}}\\\\end{{equation*}}\"\"\")"
   ]
  },
  {
   "cell_type": "markdown",
   "metadata": {},
   "source": [
    "#### Log"
   ]
  },
  {
   "cell_type": "code",
   "execution_count": null,
   "metadata": {},
   "outputs": [],
   "source": [
    "log['time'] = log['result'].time_taken\n",
    "Latex(f\"\"\"\\\\begin{{equation*}}{log['time']}\\\\space\\\\text{{seconds}}\\\\end{{equation*}}\"\"\")"
   ]
  },
  {
   "cell_type": "markdown",
   "metadata": {},
   "source": [
    "### Amdahl's Law"
   ]
  },
  {
   "cell_type": "markdown",
   "metadata": {},
   "source": [
    "#### Parallel Portion"
   ]
  },
  {
   "cell_type": "code",
   "execution_count": null,
   "metadata": {},
   "outputs": [],
   "source": [
    "S_latency = linear['time'] / log['time']\n",
    "P = (N * (1 - (1 / S_latency))) / (N - 1)\n",
    "Latex(f\"\"\"\\\\begin{{equation*}}\n",
    "    P = \\\\dfrac{{s\\\\left(1 - \\\\dfrac{{1}}{{S_\\\\text{{latency}}}}\\\\right)}}{{s - 1}} = \\\\dfrac{{{s}\\\\left(1 - \\\\dfrac{{1}}{{{S_latency}}}\\\\right)}}{{{s - 1}}} = {P * 100}\\%\n",
    "    \\\\end{{equation*}}\n",
    "  \"\"\")"
   ]
  },
  {
   "cell_type": "markdown",
   "metadata": {},
   "source": [
    "#### Sequential Portion"
   ]
  },
  {
   "cell_type": "code",
   "execution_count": null,
   "metadata": {
    "tags": []
   },
   "outputs": [],
   "source": [
    "S_EQ = 1 - P\n",
    "Latex(f\"\"\"\\\\begin{{equation*}}S_\\\\text{{EQ}} = 1 - P = {S_EQ * 100}\\%\\\\end{{equation*}}\"\"\")"
   ]
  },
  {
   "cell_type": "markdown",
   "metadata": {},
   "source": [
    "---"
   ]
  },
  {
   "cell_type": "markdown",
   "metadata": {},
   "source": [
    "## References"
   ]
  },
  {
   "attachments": {},
   "cell_type": "markdown",
   "metadata": {},
   "source": [
    "1. [arXiv:1807.05572](https://arxiv.org/abs/1807.05572)"
   ]
  }
 ],
 "metadata": {
  "kernelspec": {
   "display_name": "Python 3 (ipykernel)",
   "language": "python",
   "name": "python3"
  },
  "language_info": {
   "codemirror_mode": {
    "name": "ipython",
    "version": 3
   },
   "file_extension": ".py",
   "mimetype": "text/x-python",
   "name": "python",
   "nbconvert_exporter": "python",
   "pygments_lexer": "ipython3",
   "version": "3.11.3"
  }
 },
 "nbformat": 4,
 "nbformat_minor": 4
}
