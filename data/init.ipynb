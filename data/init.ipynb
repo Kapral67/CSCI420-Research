{
 "cells": [
  {
   "attachments": {},
   "cell_type": "markdown",
   "metadata": {},
   "source": [
    "# Welcome to the Quantum Parallel Universe"
   ]
  },
  {
   "attachments": {},
   "cell_type": "markdown",
   "metadata": {},
   "source": [
    "### Before Running this Notebook"
   ]
  },
  {
   "attachments": {},
   "cell_type": "markdown",
   "metadata": {},
   "source": [
    "- Create a `token.txt` file in the same folder as this notebook\n",
    "  - `token.txt` should contain a token sufficient for [`qiskit_ibm_provider.IBMProvider()`](https://github.com/Qiskit/qiskit-ibm-provider#enable-account-for-current-session) authentication."
   ]
  },
  {
   "attachments": {},
   "cell_type": "markdown",
   "metadata": {},
   "source": [
    "---"
   ]
  },
  {
   "attachments": {},
   "cell_type": "markdown",
   "metadata": {},
   "source": [
    "### Get Token"
   ]
  },
  {
   "cell_type": "code",
   "execution_count": 1,
   "metadata": {},
   "outputs": [],
   "source": [
    "token = None\n",
    "with open('token.txt', 'r') as f:\n",
    "  token = f.read().strip()"
   ]
  },
  {
   "attachments": {},
   "cell_type": "markdown",
   "metadata": {},
   "source": [
    "### Imports"
   ]
  },
  {
   "cell_type": "code",
   "execution_count": 2,
   "metadata": {},
   "outputs": [],
   "source": [
    "import math\n",
    "from qiskit import QuantumCircuit"
   ]
  },
  {
   "attachments": {},
   "cell_type": "markdown",
   "metadata": {},
   "source": [
    "## Let $N = 2^m$"
   ]
  },
  {
   "attachments": {},
   "cell_type": "markdown",
   "metadata": {},
   "source": [
    "### Initializer Class"
   ]
  },
  {
   "cell_type": "code",
   "execution_count": 3,
   "metadata": {},
   "outputs": [],
   "source": [
    "# Stands for Quantum Parallel Initializer (the acronym is a tongue-in-cheek reference to MPI and QMPI)\n",
    "class QPI:\n",
    "  N = None\n",
    "  qubit_list = None\n",
    "  circuit = None\n",
    "\n",
    "  def _validator(self, m: int):\n",
    "    if not isinstance(m, int):\n",
    "      raise TypeError(\"Only integer arguments accepted.\")\n",
    "    if m < 0:\n",
    "      raise ValueError(\"`m` must be at least 0 (evaluated 2^m).\")\n",
    "    self.N = 2**m\n",
    "    self.qubit_list = [i for i in range(self.N)]\n",
    "\n",
    "  def _initCircuit(self) -> QuantumCircuit:\n",
    "    c = QuantumCircuit(self.N, self.N)\n",
    "    for i in self.qubit_list:\n",
    "      c.reset(i)\n",
    "    self.circuit = c\n",
    "\n",
    "  def __init__(self, m: int):\n",
    "    self._validator(m=m)\n",
    "    self._initCircuit()\n",
    "\n",
    "  def m(self):\n",
    "    return math.ceil(math.log2(self.N))"
   ]
  },
  {
   "attachments": {},
   "cell_type": "markdown",
   "metadata": {},
   "source": [
    "### Generate Linear Time Complexity Circuits for $|\\text{GHZ}_N\\rangle$"
   ]
  },
  {
   "cell_type": "code",
   "execution_count": 4,
   "metadata": {},
   "outputs": [],
   "source": [
    "def linear_complexity_GHZ(m: int) -> QPI:\n",
    "  q = QPI(m=m)\n",
    "  q.circuit.h(0)\n",
    "  for i in range(1, q.N):\n",
    "    q.circuit.cx(i-1, i)\n",
    "  q.circuit.barrier()\n",
    "  q.circuit.measure(*((q.qubit_list,)*2))\n",
    "  return q"
   ]
  },
  {
   "attachments": {},
   "cell_type": "markdown",
   "metadata": {},
   "source": [
    "### Generate Logaritmic Complexity Circuits for $|\\text{GHZ}_N\\rangle$"
   ]
  },
  {
   "cell_type": "code",
   "execution_count": 5,
   "metadata": {},
   "outputs": [],
   "source": [
    "def log_complexity_GHZ(q: QPI, m=None) -> QPI:\n",
    "  if m is None:\n",
    "    m = q.m()\n",
    "  if m == 0:\n",
    "    q.circuit.h(0)\n",
    "    q.circuit.measure(*((q.qubit_list,)*2))\n",
    "    q.circuit.barrier()\n",
    "    return q\n",
    "  else:\n",
    "    q = log_complexity_GHZ(q=q, m=m-1)\n",
    "    for i in q.qubit_list:\n",
    "      try:\n",
    "        q.circuit.cx(i-1, m-1)\n",
    "      except AttributeError as e:\n",
    "        print(m)\n",
    "        raise e"
   ]
  },
  {
   "attachments": {},
   "cell_type": "markdown",
   "metadata": {},
   "source": [
    "---"
   ]
  },
  {
   "cell_type": "code",
   "execution_count": 6,
   "metadata": {},
   "outputs": [],
   "source": [
    "# linear_complexity_GHZ(2).circuit.draw(output='mpl')"
   ]
  },
  {
   "cell_type": "code",
   "execution_count": 7,
   "metadata": {},
   "outputs": [
    {
     "name": "stdout",
     "output_type": "stream",
     "text": [
      "2\n"
     ]
    },
    {
     "ename": "AttributeError",
     "evalue": "'NoneType' object has no attribute 'circuit'",
     "output_type": "error",
     "traceback": [
      "\u001b[0;31m---------------------------------------------------------------------------\u001b[0m",
      "\u001b[0;31mAttributeError\u001b[0m                            Traceback (most recent call last)",
      "Cell \u001b[0;32mIn[7], line 1\u001b[0m\n\u001b[0;32m----> 1\u001b[0m log_complexity_GHZ(q\u001b[39m=\u001b[39;49mQPI(m\u001b[39m=\u001b[39;49m\u001b[39m2\u001b[39;49m))\u001b[39m.\u001b[39mcircuit\u001b[39m.\u001b[39mdraw(output\u001b[39m=\u001b[39m\u001b[39m'\u001b[39m\u001b[39mmpl\u001b[39m\u001b[39m'\u001b[39m)\n",
      "Cell \u001b[0;32mIn[5], line 16\u001b[0m, in \u001b[0;36mlog_complexity_GHZ\u001b[0;34m(q, m)\u001b[0m\n\u001b[1;32m     14\u001b[0m \u001b[39mexcept\u001b[39;00m \u001b[39mAttributeError\u001b[39;00m \u001b[39mas\u001b[39;00m e:\n\u001b[1;32m     15\u001b[0m   \u001b[39mprint\u001b[39m(m)\n\u001b[0;32m---> 16\u001b[0m   \u001b[39mraise\u001b[39;00m e\n",
      "Cell \u001b[0;32mIn[5], line 13\u001b[0m, in \u001b[0;36mlog_complexity_GHZ\u001b[0;34m(q, m)\u001b[0m\n\u001b[1;32m     11\u001b[0m \u001b[39mfor\u001b[39;00m i \u001b[39min\u001b[39;00m \u001b[39mrange\u001b[39m(m\u001b[39m-\u001b[39m\u001b[39m1\u001b[39m):\n\u001b[1;32m     12\u001b[0m   \u001b[39mtry\u001b[39;00m:\n\u001b[0;32m---> 13\u001b[0m     q\u001b[39m.\u001b[39;49mcircuit\u001b[39m.\u001b[39mcx(i, m\u001b[39m-\u001b[39m\u001b[39m1\u001b[39m)\n\u001b[1;32m     14\u001b[0m   \u001b[39mexcept\u001b[39;00m \u001b[39mAttributeError\u001b[39;00m \u001b[39mas\u001b[39;00m e:\n\u001b[1;32m     15\u001b[0m     \u001b[39mprint\u001b[39m(m)\n",
      "\u001b[0;31mAttributeError\u001b[0m: 'NoneType' object has no attribute 'circuit'"
     ]
    }
   ],
   "source": [
    "log_complexity_GHZ(q=QPI(m=2)).circuit.draw(output='mpl')"
   ]
  }
 ],
 "metadata": {
  "kernelspec": {
   "display_name": "Python 3",
   "language": "python",
   "name": "python3"
  },
  "language_info": {
   "codemirror_mode": {
    "name": "ipython",
    "version": 3
   },
   "file_extension": ".py",
   "mimetype": "text/x-python",
   "name": "python",
   "nbconvert_exporter": "python",
   "pygments_lexer": "ipython3",
   "version": "3.8.16"
  },
  "orig_nbformat": 4
 },
 "nbformat": 4,
 "nbformat_minor": 2
}
